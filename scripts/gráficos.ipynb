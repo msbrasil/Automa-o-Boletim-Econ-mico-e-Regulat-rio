{
 "cells": [
  {
   "cell_type": "markdown",
   "metadata": {},
   "source": [
    "# Gráficos do Boletim Econômico e Regulatório"
   ]
  },
  {
   "cell_type": "code",
   "execution_count": 1,
   "metadata": {},
   "outputs": [],
   "source": [
    "import matplotlib.pyplot as plt\n",
    "import dados_planilha\n",
    "import scripts_saneamento as ss\n",
    "import matplotlib"
   ]
  },
  {
   "cell_type": "code",
   "execution_count": 115,
   "metadata": {},
   "outputs": [],
   "source": [
    "ipca = ss.importa_ipca('ipca_202201SerieHist.xls')"
   ]
  },
  {
   "cell_type": "code",
   "execution_count": 118,
   "metadata": {},
   "outputs": [
    {
     "name": "stderr",
     "output_type": "stream",
     "text": [
      "C:\\Users\\mathe\\AppData\\Local\\Temp\\ipykernel_928\\2898746291.py:3: SettingWithCopyWarning: \n",
      "A value is trying to be set on a copy of a slice from a DataFrame\n",
      "\n",
      "See the caveats in the documentation: https://pandas.pydata.org/pandas-docs/stable/user_guide/indexing.html#returning-a-view-versus-a-copy\n",
      "  ipca['Mensal'][var] = ((ipca['Índice'][var] / ipca['Índice'][var-1]-1))*100\n"
     ]
    }
   ],
   "source": [
    "ipca['Mensal'] = None\n",
    "for var in range(len(ipca)-1, 0, -1): #variação mensal\n",
    "    ipca['Mensal'][var] = ((ipca['Índice'][var] / ipca['Índice'][var-1]-1))*100"
   ]
  },
  {
   "cell_type": "code",
   "execution_count": 126,
   "metadata": {},
   "outputs": [
    {
     "name": "stderr",
     "output_type": "stream",
     "text": [
      "C:\\Users\\mathe\\AppData\\Local\\Temp\\ipykernel_928\\3657272830.py:3: SettingWithCopyWarning: \n",
      "A value is trying to be set on a copy of a slice from a DataFrame\n",
      "\n",
      "See the caveats in the documentation: https://pandas.pydata.org/pandas-docs/stable/user_guide/indexing.html#returning-a-view-versus-a-copy\n",
      "  ipca['Acum12M'][var] = round(((ipca['Índice'][var] / ipca['Índice'][var-12]-1))*100,2)\n"
     ]
    },
    {
     "ename": "KeyError",
     "evalue": "-1",
     "output_type": "error",
     "traceback": [
      "\u001b[1;31m---------------------------------------------------------------------------\u001b[0m",
      "\u001b[1;31mValueError\u001b[0m                                Traceback (most recent call last)",
      "File \u001b[1;32mC:\\python3.10\\lib\\site-packages\\pandas\\core\\indexes\\range.py:385\u001b[0m, in \u001b[0;36mRangeIndex.get_loc\u001b[1;34m(self, key, method, tolerance)\u001b[0m\n\u001b[0;32m    <a href='file:///c%3A/python3.10/lib/site-packages/pandas/core/indexes/range.py?line=383'>384</a>\u001b[0m \u001b[39mtry\u001b[39;00m:\n\u001b[1;32m--> <a href='file:///c%3A/python3.10/lib/site-packages/pandas/core/indexes/range.py?line=384'>385</a>\u001b[0m     \u001b[39mreturn\u001b[39;00m \u001b[39mself\u001b[39;49m\u001b[39m.\u001b[39;49m_range\u001b[39m.\u001b[39;49mindex(new_key)\n\u001b[0;32m    <a href='file:///c%3A/python3.10/lib/site-packages/pandas/core/indexes/range.py?line=385'>386</a>\u001b[0m \u001b[39mexcept\u001b[39;00m \u001b[39mValueError\u001b[39;00m \u001b[39mas\u001b[39;00m err:\n",
      "\u001b[1;31mValueError\u001b[0m: -1 is not in range",
      "\nThe above exception was the direct cause of the following exception:\n",
      "\u001b[1;31mKeyError\u001b[0m                                  Traceback (most recent call last)",
      "\u001b[1;32md:\\AGEPAR\\boletim automação\\gráficos.ipynb Cell 5'\u001b[0m in \u001b[0;36m<module>\u001b[1;34m\u001b[0m\n\u001b[0;32m      <a href='vscode-notebook-cell:/d%3A/AGEPAR/boletim%20automa%C3%A7%C3%A3o/gr%C3%A1ficos.ipynb#ch0000017?line=0'>1</a>\u001b[0m ipca[\u001b[39m'\u001b[39m\u001b[39mAcum12M\u001b[39m\u001b[39m'\u001b[39m] \u001b[39m=\u001b[39m \u001b[39mNone\u001b[39;00m\n\u001b[0;32m      <a href='vscode-notebook-cell:/d%3A/AGEPAR/boletim%20automa%C3%A7%C3%A3o/gr%C3%A1ficos.ipynb#ch0000017?line=1'>2</a>\u001b[0m \u001b[39mfor\u001b[39;00m var \u001b[39min\u001b[39;00m \u001b[39mrange\u001b[39m(\u001b[39mlen\u001b[39m(ipca)\u001b[39m-\u001b[39m\u001b[39m1\u001b[39m, \u001b[39m0\u001b[39m, \u001b[39m-\u001b[39m\u001b[39m1\u001b[39m): \u001b[39m#variação mensal\u001b[39;00m\n\u001b[1;32m----> <a href='vscode-notebook-cell:/d%3A/AGEPAR/boletim%20automa%C3%A7%C3%A3o/gr%C3%A1ficos.ipynb#ch0000017?line=2'>3</a>\u001b[0m     ipca[\u001b[39m'\u001b[39m\u001b[39mAcum12M\u001b[39m\u001b[39m'\u001b[39m][var] \u001b[39m=\u001b[39m \u001b[39mround\u001b[39m(((ipca[\u001b[39m'\u001b[39m\u001b[39mÍndice\u001b[39m\u001b[39m'\u001b[39m][var] \u001b[39m/\u001b[39m ipca[\u001b[39m'\u001b[39;49m\u001b[39mÍndice\u001b[39;49m\u001b[39m'\u001b[39;49m][var\u001b[39m-\u001b[39;49m\u001b[39m12\u001b[39;49m]\u001b[39m-\u001b[39m\u001b[39m1\u001b[39m))\u001b[39m*\u001b[39m\u001b[39m100\u001b[39m,\u001b[39m2\u001b[39m)\n",
      "File \u001b[1;32mC:\\python3.10\\lib\\site-packages\\pandas\\core\\series.py:942\u001b[0m, in \u001b[0;36mSeries.__getitem__\u001b[1;34m(self, key)\u001b[0m\n\u001b[0;32m    <a href='file:///c%3A/python3.10/lib/site-packages/pandas/core/series.py?line=938'>939</a>\u001b[0m     \u001b[39mreturn\u001b[39;00m \u001b[39mself\u001b[39m\u001b[39m.\u001b[39m_values[key]\n\u001b[0;32m    <a href='file:///c%3A/python3.10/lib/site-packages/pandas/core/series.py?line=940'>941</a>\u001b[0m \u001b[39melif\u001b[39;00m key_is_scalar:\n\u001b[1;32m--> <a href='file:///c%3A/python3.10/lib/site-packages/pandas/core/series.py?line=941'>942</a>\u001b[0m     \u001b[39mreturn\u001b[39;00m \u001b[39mself\u001b[39;49m\u001b[39m.\u001b[39;49m_get_value(key)\n\u001b[0;32m    <a href='file:///c%3A/python3.10/lib/site-packages/pandas/core/series.py?line=943'>944</a>\u001b[0m \u001b[39mif\u001b[39;00m is_hashable(key):\n\u001b[0;32m    <a href='file:///c%3A/python3.10/lib/site-packages/pandas/core/series.py?line=944'>945</a>\u001b[0m     \u001b[39m# Otherwise index.get_value will raise InvalidIndexError\u001b[39;00m\n\u001b[0;32m    <a href='file:///c%3A/python3.10/lib/site-packages/pandas/core/series.py?line=945'>946</a>\u001b[0m     \u001b[39mtry\u001b[39;00m:\n\u001b[0;32m    <a href='file:///c%3A/python3.10/lib/site-packages/pandas/core/series.py?line=946'>947</a>\u001b[0m         \u001b[39m# For labels that don't resolve as scalars like tuples and frozensets\u001b[39;00m\n",
      "File \u001b[1;32mC:\\python3.10\\lib\\site-packages\\pandas\\core\\series.py:1051\u001b[0m, in \u001b[0;36mSeries._get_value\u001b[1;34m(self, label, takeable)\u001b[0m\n\u001b[0;32m   <a href='file:///c%3A/python3.10/lib/site-packages/pandas/core/series.py?line=1047'>1048</a>\u001b[0m     \u001b[39mreturn\u001b[39;00m \u001b[39mself\u001b[39m\u001b[39m.\u001b[39m_values[label]\n\u001b[0;32m   <a href='file:///c%3A/python3.10/lib/site-packages/pandas/core/series.py?line=1049'>1050</a>\u001b[0m \u001b[39m# Similar to Index.get_value, but we do not fall back to positional\u001b[39;00m\n\u001b[1;32m-> <a href='file:///c%3A/python3.10/lib/site-packages/pandas/core/series.py?line=1050'>1051</a>\u001b[0m loc \u001b[39m=\u001b[39m \u001b[39mself\u001b[39;49m\u001b[39m.\u001b[39;49mindex\u001b[39m.\u001b[39;49mget_loc(label)\n\u001b[0;32m   <a href='file:///c%3A/python3.10/lib/site-packages/pandas/core/series.py?line=1051'>1052</a>\u001b[0m \u001b[39mreturn\u001b[39;00m \u001b[39mself\u001b[39m\u001b[39m.\u001b[39mindex\u001b[39m.\u001b[39m_get_values_for_loc(\u001b[39mself\u001b[39m, loc, label)\n",
      "File \u001b[1;32mC:\\python3.10\\lib\\site-packages\\pandas\\core\\indexes\\range.py:387\u001b[0m, in \u001b[0;36mRangeIndex.get_loc\u001b[1;34m(self, key, method, tolerance)\u001b[0m\n\u001b[0;32m    <a href='file:///c%3A/python3.10/lib/site-packages/pandas/core/indexes/range.py?line=384'>385</a>\u001b[0m             \u001b[39mreturn\u001b[39;00m \u001b[39mself\u001b[39m\u001b[39m.\u001b[39m_range\u001b[39m.\u001b[39mindex(new_key)\n\u001b[0;32m    <a href='file:///c%3A/python3.10/lib/site-packages/pandas/core/indexes/range.py?line=385'>386</a>\u001b[0m         \u001b[39mexcept\u001b[39;00m \u001b[39mValueError\u001b[39;00m \u001b[39mas\u001b[39;00m err:\n\u001b[1;32m--> <a href='file:///c%3A/python3.10/lib/site-packages/pandas/core/indexes/range.py?line=386'>387</a>\u001b[0m             \u001b[39mraise\u001b[39;00m \u001b[39mKeyError\u001b[39;00m(key) \u001b[39mfrom\u001b[39;00m \u001b[39merr\u001b[39;00m\n\u001b[0;32m    <a href='file:///c%3A/python3.10/lib/site-packages/pandas/core/indexes/range.py?line=387'>388</a>\u001b[0m     \u001b[39mraise\u001b[39;00m \u001b[39mKeyError\u001b[39;00m(key)\n\u001b[0;32m    <a href='file:///c%3A/python3.10/lib/site-packages/pandas/core/indexes/range.py?line=388'>389</a>\u001b[0m \u001b[39mreturn\u001b[39;00m \u001b[39msuper\u001b[39m()\u001b[39m.\u001b[39mget_loc(key, method\u001b[39m=\u001b[39mmethod, tolerance\u001b[39m=\u001b[39mtolerance)\n",
      "\u001b[1;31mKeyError\u001b[0m: -1"
     ]
    }
   ],
   "source": [
    "ipca['Acum12M'] = None\n",
    "for var in range(len(ipca)-1, 0, -1): #variação mensal\n",
    "    ipca['Acum12M'][var] = round(((ipca['Índice'][var] / ipca['Índice'][var-12]-1))*100,2)"
   ]
  },
  {
   "cell_type": "code",
   "execution_count": 127,
   "metadata": {},
   "outputs": [
    {
     "data": {
      "text/html": [
       "<div>\n",
       "<style scoped>\n",
       "    .dataframe tbody tr th:only-of-type {\n",
       "        vertical-align: middle;\n",
       "    }\n",
       "\n",
       "    .dataframe tbody tr th {\n",
       "        vertical-align: top;\n",
       "    }\n",
       "\n",
       "    .dataframe thead th {\n",
       "        text-align: right;\n",
       "    }\n",
       "</style>\n",
       "<table border=\"1\" class=\"dataframe\">\n",
       "  <thead>\n",
       "    <tr style=\"text-align: right;\">\n",
       "      <th></th>\n",
       "      <th>index</th>\n",
       "      <th>Data</th>\n",
       "      <th>Índice</th>\n",
       "      <th>Mensal</th>\n",
       "      <th>Acum12M</th>\n",
       "    </tr>\n",
       "  </thead>\n",
       "  <tbody>\n",
       "    <tr>\n",
       "      <th>332</th>\n",
       "      <td>406</td>\n",
       "      <td>09/2021</td>\n",
       "      <td>5944.21</td>\n",
       "      <td>1.16</td>\n",
       "      <td>10.25</td>\n",
       "    </tr>\n",
       "    <tr>\n",
       "      <th>333</th>\n",
       "      <td>407</td>\n",
       "      <td>10/2021</td>\n",
       "      <td>6018.51</td>\n",
       "      <td>1.25</td>\n",
       "      <td>10.67</td>\n",
       "    </tr>\n",
       "    <tr>\n",
       "      <th>334</th>\n",
       "      <td>408</td>\n",
       "      <td>11/2021</td>\n",
       "      <td>6075.69</td>\n",
       "      <td>0.95</td>\n",
       "      <td>10.74</td>\n",
       "    </tr>\n",
       "    <tr>\n",
       "      <th>335</th>\n",
       "      <td>409</td>\n",
       "      <td>12/2021</td>\n",
       "      <td>6120.04</td>\n",
       "      <td>0.73</td>\n",
       "      <td>10.06</td>\n",
       "    </tr>\n",
       "    <tr>\n",
       "      <th>336</th>\n",
       "      <td>411</td>\n",
       "      <td>01/2022</td>\n",
       "      <td>6153.09</td>\n",
       "      <td>0.54</td>\n",
       "      <td>10.38</td>\n",
       "    </tr>\n",
       "  </tbody>\n",
       "</table>\n",
       "</div>"
      ],
      "text/plain": [
       "     index     Data   Índice Mensal Acum12M\n",
       "332    406  09/2021  5944.21   1.16   10.25\n",
       "333    407  10/2021  6018.51   1.25   10.67\n",
       "334    408  11/2021  6075.69   0.95   10.74\n",
       "335    409  12/2021  6120.04   0.73   10.06\n",
       "336    411  01/2022  6153.09   0.54   10.38"
      ]
     },
     "execution_count": 127,
     "metadata": {},
     "output_type": "execute_result"
    }
   ],
   "source": [
    "ipca.tail()"
   ]
  },
  {
   "cell_type": "code",
   "execution_count": 133,
   "metadata": {},
   "outputs": [
    {
     "data": {
      "text/plain": [
       "[<matplotlib.lines.Line2D at 0x2079e98ceb0>]"
      ]
     },
     "execution_count": 133,
     "metadata": {},
     "output_type": "execute_result"
    },
    {
     "data": {
      "image/png": "[encoded data removed]",
      "text/plain": [
       "<Figure size 432x288 with 1 Axes>"
      ]
     },
     "metadata": {
      "needs_background": "light"
     },
     "output_type": "display_data"
    }
   ],
   "source": [
    "ax, fig = plt.subplots()\n",
    "fig.plot(ipca['Mensal'][-12:])"
   ]
  }
 ],
 "metadata": {
  "interpreter": {
   "hash": "08820d80d9da2e8b8362dd7eb175f13515edfba605b5089051618ffd8d1308cc"
  },
  "kernelspec": {
   "display_name": "Python 3.10.1 64-bit",
   "language": "python",
   "name": "python3"
  },
  "language_info": {
   "codemirror_mode": {
    "name": "ipython",
    "version": 3
   },
   "file_extension": ".py",
   "mimetype": "text/x-python",
   "name": "python",
   "nbconvert_exporter": "python",
   "pygments_lexer": "ipython3",
   "version": "3.10.1"
  },
  "orig_nbformat": 4
 },
 "nbformat": 4,
 "nbformat_minor": 2
}
