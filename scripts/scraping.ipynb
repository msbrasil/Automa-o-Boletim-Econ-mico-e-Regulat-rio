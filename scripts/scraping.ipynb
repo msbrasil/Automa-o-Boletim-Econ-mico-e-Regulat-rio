{
 "cells": [
  {
   "cell_type": "markdown",
   "metadata": {},
   "source": [
    "pacotes"
   ]
  },
  {
   "cell_type": "code",
   "execution_count": 1,
   "metadata": {},
   "outputs": [],
   "source": [
    "import pandas as pd\n",
    "import ssl"
   ]
  },
  {
   "cell_type": "markdown",
   "metadata": {},
   "source": [
    "scraping"
   ]
  },
  {
   "cell_type": "code",
   "execution_count": 2,
   "metadata": {},
   "outputs": [],
   "source": [
    "ssl._create_default_https_context = ssl._create_unverified_context\n",
    "url_brent = 'http://www.ipeadata.gov.br/ExibeSerie.aspx?stub=1&serid1650971490=1650971490&PerID=1&PerMetodo1650971490_0=LST'\n",
    "url_ipca = 'http://www.ipeadata.gov.br/ExibeSerie.aspx?serid=36482'\n",
    "url_inpc = 'http://www.ipeadata.gov.br/ExibeSerie.aspx?serid=36472'\n",
    "url_igpdi = 'http://www.ipeadata.gov.br/ExibeSerie.aspx?serid=33593'\n",
    "url_igpm = 'http://www.ipeadata.gov.br/ExibeSerie.aspx?serid=37796'\n",
    "\n",
    "\n",
    "pagina_brent = pd.read_html(url_brent)\n",
    "pagina_ipca = pd.read_html(url_ipca)\n",
    "pagina_inpc = pd.read_html(url_inpc)\n",
    "pagina_igpdi = pd.read_html(url_igpdi)\n",
    "pagina_igpm = pd.read_html(url_igpm)"
   ]
  },
  {
   "cell_type": "markdown",
   "metadata": {},
   "source": [
    "## Tratamento"
   ]
  },
  {
   "cell_type": "markdown",
   "metadata": {},
   "source": [
    "brent"
   ]
  },
  {
   "cell_type": "code",
   "execution_count": 3,
   "metadata": {},
   "outputs": [],
   "source": [
    "brent = pagina_brent[2]\n",
    "brent.columns = ['Data','Preço - Brent (FOB)']\n",
    "brent = brent.drop(0)\n",
    "brent['Preço - Brent (FOB)'] = pd.to_numeric(brent['Preço - Brent (FOB)'])\n",
    "brent['Preço - Brent (FOB)'] = brent['Preço - Brent (FOB)']/100\n",
    "brent['Data'] = pd.to_datetime(brent['Data'])\n",
    "brent.set_index('Data', inplace=True)"
   ]
  },
  {
   "cell_type": "markdown",
   "metadata": {},
   "source": [
    "IPCA"
   ]
  },
  {
   "cell_type": "code",
   "execution_count": 4,
   "metadata": {},
   "outputs": [
    {
     "name": "stderr",
     "output_type": "stream",
     "text": [
      "C:\\Users\\mathe\\AppData\\Local\\Temp\\ipykernel_8680\\530214562.py:5: FutureWarning: The default value of regex will change from True to False in a future version. In addition, single character regular expressions will *not* be treated as literal strings when regex=True.\n",
      "  ipca['IPCA Indice'] = ipca['IPCA Indice'].str.replace('.','')\n"
     ]
    }
   ],
   "source": [
    "ipca = pagina_ipca[2]\n",
    "ipca.columns = ['Data','IPCA Indice']\n",
    "ipca = ipca.drop(range(0,105))\n",
    "\n",
    "ipca['IPCA Indice'] = ipca['IPCA Indice'].str.replace('.','')\n",
    "ipca['IPCA Indice'] = ipca['IPCA Indice'].str.replace(',','.')\n",
    "ipca['IPCA Indice'] = pd.to_numeric(ipca['IPCA Indice'])\n",
    "ipca['Data'] = pd.to_datetime(ipca['Data'])\n",
    "ipca.set_index('Data', inplace=True)\n",
    "\n",
    "ipca['Variação Mensal'] = 0.0\n",
    "for i in range(-1, -21, -1):\n",
    "    ipca['Variação Mensal'][i] = ((ipca['IPCA Indice'][i] / ipca['IPCA Indice'][i-1]) - 1)*100\n",
    "\n",
    "ipca['Acumulado 12 meses'] = 0.0\n",
    "for i in range(-1, -201, -1):\n",
    "    ipca['Acumulado 12 meses'][i] = ((ipca['IPCA Indice'][i] / ipca['IPCA Indice'][i-12]) - 1)*100\n",
    "\n",
    "ipca['Acumulado no Ano'] = 0.0\n",
    "for i in range(401, len(ipca)):\n",
    "    ipca['Acumulado no Ano'][i] = (ipca['IPCA Indice'][i] / ipca['IPCA Indice'][400] - 1)*100\n",
    "\n",
    "ipca = ipca.round(2)\n"
   ]
  },
  {
   "cell_type": "markdown",
   "metadata": {},
   "source": [
    "INPC"
   ]
  },
  {
   "cell_type": "code",
   "execution_count": 5,
   "metadata": {},
   "outputs": [
    {
     "name": "stderr",
     "output_type": "stream",
     "text": [
      "C:\\Users\\mathe\\AppData\\Local\\Temp\\ipykernel_8680\\124349729.py:5: FutureWarning: The default value of regex will change from True to False in a future version. In addition, single character regular expressions will *not* be treated as literal strings when regex=True.\n",
      "  inpc['INPC Indice'] = inpc['INPC Indice'].str.replace('.','')\n"
     ]
    }
   ],
   "source": [
    "inpc = pagina_inpc[2]\n",
    "inpc.columns = ['Data','INPC Indice']\n",
    "inpc = inpc.drop(range(0,105))\n",
    "\n",
    "inpc['INPC Indice'] = inpc['INPC Indice'].str.replace('.','')\n",
    "inpc['INPC Indice'] = inpc['INPC Indice'].str.replace(',','.')\n",
    "inpc['INPC Indice'] = pd.to_numeric(inpc['INPC Indice'])\n",
    "inpc['Data'] = pd.to_datetime(inpc['Data'])\n",
    "inpc.set_index('Data', inplace=True)\n",
    "\n",
    "inpc['Variação Mensal'] = 0.0\n",
    "for i in range(-1, -21, -1):\n",
    "    inpc['Variação Mensal'][i] = ((inpc['INPC Indice'][i] / inpc['INPC Indice'][i-1]) - 1)*100\n",
    "\n",
    "inpc['Acumulado 12 meses'] = 0.0\n",
    "for i in range(-1, -201, -1):\n",
    "    inpc['Acumulado 12 meses'][i] = ((inpc['INPC Indice'][i] / inpc['INPC Indice'][i-12]) - 1)*100\n",
    "\n",
    "inpc['Acumulado no Ano'] = 0.0\n",
    "for i in range(410, len(inpc)):\n",
    "    inpc['Acumulado no Ano'][i] = (inpc['INPC Indice'][i] / inpc['INPC Indice'][409] - 1)*100\n",
    "\n",
    "inpc = inpc.round(2)\n"
   ]
  },
  {
   "cell_type": "markdown",
   "metadata": {},
   "source": [
    "IGP-DI"
   ]
  },
  {
   "cell_type": "code",
   "execution_count": 6,
   "metadata": {},
   "outputs": [
    {
     "name": "stderr",
     "output_type": "stream",
     "text": [
      "C:\\Users\\mathe\\AppData\\Local\\Temp\\ipykernel_8680\\2623733390.py:5: FutureWarning: The default value of regex will change from True to False in a future version. In addition, single character regular expressions will *not* be treated as literal strings when regex=True.\n",
      "  igpdi['IGP-DI Indice'] = igpdi['IGP-DI Indice'].str.replace('.','')\n"
     ]
    }
   ],
   "source": [
    "igpdi = pagina_igpdi[2]\n",
    "igpdi.columns = ['Data','IGP-DI Indice']\n",
    "igpdi = igpdi.drop(range(0,105))\n",
    "\n",
    "igpdi['IGP-DI Indice'] = igpdi['IGP-DI Indice'].str.replace('.','')\n",
    "igpdi['IGP-DI Indice'] = igpdi['IGP-DI Indice'].str.replace(',','.')\n",
    "igpdi['IGP-DI Indice'] = pd.to_numeric(igpdi['IGP-DI Indice'])\n",
    "igpdi['Data'] = pd.to_datetime(igpdi['Data'])\n",
    "igpdi.set_index('Data', inplace=True)\n",
    "\n",
    "igpdi['Variação Mensal'] = 0.0\n",
    "for i in range(-1, -21, -1):\n",
    "    igpdi['Variação Mensal'][i] = ((igpdi['IGP-DI Indice'][i] / igpdi['IGP-DI Indice'][i-1]) - 1)*100\n",
    "\n",
    "igpdi['Acumulado 12 meses'] = 0.0\n",
    "for i in range(-1, -400, -1):\n",
    "    igpdi['Acumulado 12 meses'][i] = ((igpdi['IGP-DI Indice'][i] / igpdi['IGP-DI Indice'][i-12]) - 1)*100\n",
    "\n",
    "igpdi['Acumulado no Ano'] = 0.0\n",
    "for i in range(832, len(igpdi)):\n",
    "    igpdi['Acumulado no Ano'][i] = (igpdi['IGP-DI Indice'][i] / igpdi['IGP-DI Indice'][831] - 1)*100\n",
    "\n",
    "igpdi = igpdi.round(2)"
   ]
  },
  {
   "cell_type": "code",
   "execution_count": 7,
   "metadata": {},
   "outputs": [
    {
     "data": {
      "text/html": [
       "<div>\n",
       "<style scoped>\n",
       "    .dataframe tbody tr th:only-of-type {\n",
       "        vertical-align: middle;\n",
       "    }\n",
       "\n",
       "    .dataframe tbody tr th {\n",
       "        vertical-align: top;\n",
       "    }\n",
       "\n",
       "    .dataframe thead th {\n",
       "        text-align: right;\n",
       "    }\n",
       "</style>\n",
       "<table border=\"1\" class=\"dataframe\">\n",
       "  <thead>\n",
       "    <tr style=\"text-align: right;\">\n",
       "      <th></th>\n",
       "      <th>IGP-DI Indice</th>\n",
       "      <th>Variação Mensal</th>\n",
       "      <th>Acumulado 12 meses</th>\n",
       "      <th>Acumulado no Ano</th>\n",
       "    </tr>\n",
       "    <tr>\n",
       "      <th>Data</th>\n",
       "      <th></th>\n",
       "      <th></th>\n",
       "      <th></th>\n",
       "      <th></th>\n",
       "    </tr>\n",
       "  </thead>\n",
       "  <tbody>\n",
       "    <tr>\n",
       "      <th>2021-09-01</th>\n",
       "      <td>1064.31</td>\n",
       "      <td>-0.55</td>\n",
       "      <td>-99.99</td>\n",
       "      <td>0.00</td>\n",
       "    </tr>\n",
       "    <tr>\n",
       "      <th>2021-10-01</th>\n",
       "      <td>1081.30</td>\n",
       "      <td>1.60</td>\n",
       "      <td>-99.99</td>\n",
       "      <td>0.00</td>\n",
       "    </tr>\n",
       "    <tr>\n",
       "      <th>2021-11-01</th>\n",
       "      <td>1075.02</td>\n",
       "      <td>-0.58</td>\n",
       "      <td>-99.99</td>\n",
       "      <td>0.00</td>\n",
       "    </tr>\n",
       "    <tr>\n",
       "      <th>2021-12-01</th>\n",
       "      <td>1088.49</td>\n",
       "      <td>1.25</td>\n",
       "      <td>-99.99</td>\n",
       "      <td>0.00</td>\n",
       "    </tr>\n",
       "    <tr>\n",
       "      <th>2022-01-01</th>\n",
       "      <td>1110.40</td>\n",
       "      <td>2.01</td>\n",
       "      <td>-99.99</td>\n",
       "      <td>2.01</td>\n",
       "    </tr>\n",
       "  </tbody>\n",
       "</table>\n",
       "</div>"
      ],
      "text/plain": [
       "            IGP-DI Indice  Variação Mensal  Acumulado 12 meses  \\\n",
       "Data                                                             \n",
       "2021-09-01        1064.31            -0.55              -99.99   \n",
       "2021-10-01        1081.30             1.60              -99.99   \n",
       "2021-11-01        1075.02            -0.58              -99.99   \n",
       "2021-12-01        1088.49             1.25              -99.99   \n",
       "2022-01-01        1110.40             2.01              -99.99   \n",
       "\n",
       "            Acumulado no Ano  \n",
       "Data                          \n",
       "2021-09-01              0.00  \n",
       "2021-10-01              0.00  \n",
       "2021-11-01              0.00  \n",
       "2021-12-01              0.00  \n",
       "2022-01-01              2.01  "
      ]
     },
     "execution_count": 7,
     "metadata": {},
     "output_type": "execute_result"
    }
   ],
   "source": [
    "igpdi.tail() #investigar porque acumulado 12 meses esta com erro"
   ]
  },
  {
   "cell_type": "markdown",
   "metadata": {},
   "source": [
    "IGP-M"
   ]
  },
  {
   "cell_type": "code",
   "execution_count": 8,
   "metadata": {},
   "outputs": [
    {
     "name": "stderr",
     "output_type": "stream",
     "text": [
      "C:\\Users\\mathe\\AppData\\Local\\Temp\\ipykernel_8680\\2964015650.py:5: FutureWarning: The default value of regex will change from True to False in a future version. In addition, single character regular expressions will *not* be treated as literal strings when regex=True.\n",
      "  igpm['IGP-M Indice'] = igpm['IGP-M Indice'].str.replace('.','')\n"
     ]
    }
   ],
   "source": [
    "igpm = pagina_igpm[2]\n",
    "igpm.columns = ['Data','IGP-M Indice']\n",
    "igpm = igpm.drop(range(0,105))\n",
    "\n",
    "igpm['IGP-M Indice'] = igpm['IGP-M Indice'].str.replace('.','')\n",
    "igpm['IGP-M Indice'] = igpm['IGP-M Indice'].str.replace(',','.')\n",
    "igpm['IGP-M Indice'] = pd.to_numeric(igpm['IGP-M Indice'])\n",
    "igpm['Data'] = pd.to_datetime(igpm['Data'])\n",
    "igpm.set_index('Data', inplace=True)\n",
    "\n",
    "igpm['Variação Mensal'] = 0.0\n",
    "for i in range(0, -21, -1):\n",
    "    igpm['Variação Mensal'][i] = ((igpm['IGP-M Indice'][i] / igpm['IGP-M Indice'][i-1]) - 1)*100\n",
    "\n",
    "# igpm['Acumulado 12 meses'] = 0.0\n",
    "# for i in range(-1, -20, -1):\n",
    "#     igpm['Acumulado 12 meses'][i] = ((igpm['IGP-M Indice'][i] / igpm['IGP-M Indice'][i-12]) - 1)*100\n",
    "\n",
    "# igpm['Acumulado no Ano'] = 0.0\n",
    "# for i in range(286, len(inpc)):\n",
    "#     igpm['Acumulado no Ano'][i] = (igpm['IGP-M Indice'][i] / igpm['IGP-M Indice'][286] - 1)*100\n",
    "\n",
    "# igpm = igpm.round(2)"
   ]
  },
  {
   "cell_type": "code",
   "execution_count": 15,
   "metadata": {},
   "outputs": [
    {
     "data": {
      "text/plain": [
       "<AxesSubplot:xlabel='Data'>"
      ]
     },
     "execution_count": 15,
     "metadata": {},
     "output_type": "execute_result"
    },
    {
     "data": {
      "image/png": "[encoded data removed]",
      "text/plain": [
       "<Figure size 432x288 with 1 Axes>"
      ]
     },
     "metadata": {
      "needs_background": "light"
     },
     "output_type": "display_data"
    }
   ],
   "source": [
    "ipca.iloc[-12:,[1,2]].plot()"
   ]
  }
 ],
 "metadata": {
  "interpreter": {
   "hash": "08820d80d9da2e8b8362dd7eb175f13515edfba605b5089051618ffd8d1308cc"
  },
  "kernelspec": {
   "display_name": "Python 3.10.1 64-bit",
   "language": "python",
   "name": "python3"
  },
  "language_info": {
   "codemirror_mode": {
    "name": "ipython",
    "version": 3
   },
   "file_extension": ".py",
   "mimetype": "text/x-python",
   "name": "python",
   "nbconvert_exporter": "python",
   "pygments_lexer": "ipython3",
   "version": "3.10.1"
  },
  "orig_nbformat": 4
 },
 "nbformat": 4,
 "nbformat_minor": 2
}
